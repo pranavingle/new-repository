{
  "cells": [
    {
      "cell_type": "markdown",
      "metadata": {
        "id": "view-in-github",
        "colab_type": "text"
      },
      "source": [
        "<a href=\"https://colab.research.google.com/github/pranavingle/new-repository/blob/main/Git.ipynb\" target=\"_parent\"><img src=\"https://colab.research.google.com/assets/colab-badge.svg\" alt=\"Open In Colab\"/></a>"
      ]
    },
    {
      "cell_type": "code",
      "execution_count": null,
      "id": "40f74020-7003-4908-b7c8-e9d916f35f1f",
      "metadata": {
        "id": "40f74020-7003-4908-b7c8-e9d916f35f1f",
        "outputId": "e98cbfe3-7c37-4576-a9d1-b02bfb992da9"
      },
      "outputs": [
        {
          "data": {
            "text/plain": [
              "'/Users/madhavkotecha/Desktop/DIgitalHealth_Workshop'"
            ]
          },
          "execution_count": 1,
          "metadata": {},
          "output_type": "execute_result"
        }
      ],
      "source": [
        "pwd"
      ]
    },
    {
      "cell_type": "code",
      "execution_count": null,
      "id": "faae706d-577a-4bd5-93df-b01b3d123f4f",
      "metadata": {
        "id": "faae706d-577a-4bd5-93df-b01b3d123f4f",
        "outputId": "7ba9abe6-2004-4dc0-e528-f08b273dc6ce"
      },
      "outputs": [
        {
          "name": "stdout",
          "output_type": "stream",
          "text": [
            "/usr/bin/git\n"
          ]
        }
      ],
      "source": [
        "!which git"
      ]
    },
    {
      "cell_type": "code",
      "execution_count": null,
      "id": "d77110e0-80ce-488d-85f5-6bbf1934c099",
      "metadata": {
        "id": "d77110e0-80ce-488d-85f5-6bbf1934c099",
        "outputId": "2c4c8d62-6ba3-4fd6-c340-ea49a599dd3f"
      },
      "outputs": [
        {
          "name": "stdout",
          "output_type": "stream",
          "text": [
            "git version 2.39.5 (Apple Git-154)\n"
          ]
        }
      ],
      "source": [
        "!git --version"
      ]
    },
    {
      "cell_type": "code",
      "execution_count": null,
      "id": "81ae9d7f-66eb-47e6-b43d-5e1a3176ef00",
      "metadata": {
        "id": "81ae9d7f-66eb-47e6-b43d-5e1a3176ef00"
      },
      "outputs": [],
      "source": [
        "# set your username and email for git\n",
        "!git config --global user.name \"Madhav\"\n",
        "!git config --global user.email \"madhavk@cse.iitb.ac.in\""
      ]
    },
    {
      "cell_type": "code",
      "execution_count": null,
      "id": "e48ea272-556e-40bd-94b3-a966e920b6b5",
      "metadata": {
        "id": "e48ea272-556e-40bd-94b3-a966e920b6b5"
      },
      "outputs": [],
      "source": [
        "!mkdir testgit"
      ]
    },
    {
      "cell_type": "code",
      "execution_count": null,
      "id": "b5f9db58-87fb-4f8b-8559-11c9efcba2ce",
      "metadata": {
        "id": "b5f9db58-87fb-4f8b-8559-11c9efcba2ce"
      },
      "outputs": [],
      "source": [
        "!cd testgit"
      ]
    },
    {
      "cell_type": "code",
      "execution_count": null,
      "id": "30959ec4-fccc-43ab-bbd0-9349b81c8e45",
      "metadata": {
        "id": "30959ec4-fccc-43ab-bbd0-9349b81c8e45",
        "outputId": "dff0fe42-b3a2-41f9-f073-bc05dc05a46b"
      },
      "outputs": [
        {
          "data": {
            "text/plain": [
              "'/Users/madhavkotecha/Desktop/DIgitalHealth_Workshop'"
            ]
          },
          "execution_count": 9,
          "metadata": {},
          "output_type": "execute_result"
        }
      ],
      "source": [
        "pwd"
      ]
    },
    {
      "cell_type": "code",
      "execution_count": null,
      "id": "df0fbf6e-f4b1-416f-b12f-6f073a6109e7",
      "metadata": {
        "id": "df0fbf6e-f4b1-416f-b12f-6f073a6109e7"
      },
      "outputs": [],
      "source": [
        "!ls testgit"
      ]
    },
    {
      "cell_type": "code",
      "execution_count": null,
      "id": "cc7ce7d2-b134-49d5-87b5-c0e2bbaa53ea",
      "metadata": {
        "id": "cc7ce7d2-b134-49d5-87b5-c0e2bbaa53ea",
        "outputId": "319e32ca-cb70-423d-9bc0-d96f8dcd7046"
      },
      "outputs": [
        {
          "name": "stdout",
          "output_type": "stream",
          "text": [
            "/Users/madhavkotecha/Desktop/DIgitalHealth_Workshop/testgit\n"
          ]
        }
      ],
      "source": [
        "cd testgit"
      ]
    },
    {
      "cell_type": "code",
      "execution_count": null,
      "id": "c3125a7f-e56d-41b8-9da8-5e1ba35536db",
      "metadata": {
        "id": "c3125a7f-e56d-41b8-9da8-5e1ba35536db",
        "outputId": "cc771237-4411-489a-8a5b-4d9441b08035"
      },
      "outputs": [
        {
          "data": {
            "text/plain": [
              "'/Users/madhavkotecha/Desktop/DIgitalHealth_Workshop/testgit'"
            ]
          },
          "execution_count": 12,
          "metadata": {},
          "output_type": "execute_result"
        }
      ],
      "source": [
        "pwd"
      ]
    },
    {
      "cell_type": "code",
      "execution_count": null,
      "id": "d3336c65-d58b-4786-bbcb-716b8414c432",
      "metadata": {
        "id": "d3336c65-d58b-4786-bbcb-716b8414c432",
        "outputId": "58524bbb-d5d8-4176-8a96-71d6123d0b5c"
      },
      "outputs": [
        {
          "name": "stdout",
          "output_type": "stream",
          "text": [
            "Initialized empty Git repository in /Users/madhavkotecha/Desktop/DIgitalHealth_Workshop/testgit/.git/\n"
          ]
        }
      ],
      "source": [
        "!git init"
      ]
    },
    {
      "cell_type": "code",
      "execution_count": null,
      "id": "b275b52b-12ff-4b0a-9e4d-ac4037c72227",
      "metadata": {
        "id": "b275b52b-12ff-4b0a-9e4d-ac4037c72227"
      },
      "outputs": [],
      "source": [
        "!touch index.html"
      ]
    },
    {
      "cell_type": "code",
      "execution_count": null,
      "id": "14bd9942-4d60-4a45-a3d6-cb85c56487eb",
      "metadata": {
        "id": "14bd9942-4d60-4a45-a3d6-cb85c56487eb",
        "outputId": "9b9fa7d0-c568-4153-c452-4ec70a3066da"
      },
      "outputs": [
        {
          "name": "stdout",
          "output_type": "stream",
          "text": [
            "On branch main\n",
            "\n",
            "No commits yet\n",
            "\n",
            "Untracked files:\n",
            "  (use \"git add <file>...\" to include in what will be committed)\n",
            "\t\u001b[31mindex.html\u001b[m\n",
            "\n",
            "nothing added to commit but untracked files present (use \"git add\" to track)\n"
          ]
        }
      ],
      "source": [
        "!git status"
      ]
    },
    {
      "cell_type": "code",
      "execution_count": null,
      "id": "8dedec91-8ad2-482c-84aa-e54c54076099",
      "metadata": {
        "id": "8dedec91-8ad2-482c-84aa-e54c54076099"
      },
      "outputs": [],
      "source": [
        "!git add index.html;"
      ]
    },
    {
      "cell_type": "code",
      "execution_count": null,
      "id": "84279c7a-a1e8-4b98-aee7-c3410ff88d15",
      "metadata": {
        "id": "84279c7a-a1e8-4b98-aee7-c3410ff88d15"
      },
      "outputs": [],
      "source": [
        "!touch README.md"
      ]
    },
    {
      "cell_type": "code",
      "execution_count": null,
      "id": "3ce4e74f-18cf-455a-9666-917f2a17d222",
      "metadata": {
        "id": "3ce4e74f-18cf-455a-9666-917f2a17d222"
      },
      "outputs": [],
      "source": [
        "!touch bluestyle.css"
      ]
    },
    {
      "cell_type": "code",
      "execution_count": null,
      "id": "9e128d07-ed92-4d69-bcdd-b671ddb247c9",
      "metadata": {
        "id": "9e128d07-ed92-4d69-bcdd-b671ddb247c9"
      },
      "outputs": [],
      "source": [
        "!git add --all"
      ]
    },
    {
      "cell_type": "code",
      "execution_count": null,
      "id": "9fe0ff41-e206-43e8-a2e4-90a7b56537d0",
      "metadata": {
        "id": "9fe0ff41-e206-43e8-a2e4-90a7b56537d0",
        "outputId": "c8530e39-4319-464a-88f7-cd131b48c876"
      },
      "outputs": [
        {
          "name": "stdout",
          "output_type": "stream",
          "text": [
            "On branch main\n",
            "\n",
            "No commits yet\n",
            "\n",
            "Changes to be committed:\n",
            "  (use \"git rm --cached <file>...\" to unstage)\n",
            "\t\u001b[32mnew file:   README.md\u001b[m\n",
            "\t\u001b[32mnew file:   bluestyle.css\u001b[m\n",
            "\t\u001b[32mnew file:   index.html\u001b[m\n",
            "\n"
          ]
        }
      ],
      "source": [
        "!git status"
      ]
    },
    {
      "cell_type": "code",
      "execution_count": null,
      "id": "e7250037-b38b-4bf9-a845-6e7721755346",
      "metadata": {
        "id": "e7250037-b38b-4bf9-a845-6e7721755346",
        "outputId": "2077ed6a-3bca-4d69-9e0f-c97966096dc1"
      },
      "outputs": [
        {
          "name": "stdout",
          "output_type": "stream",
          "text": [
            "[main (root-commit) 2ad2182] 1st release\n",
            " 3 files changed, 0 insertions(+), 0 deletions(-)\n",
            " create mode 100644 README.md\n",
            " create mode 100644 bluestyle.css\n",
            " create mode 100644 index.html\n"
          ]
        }
      ],
      "source": [
        "!git commit -m \"1st release\""
      ]
    },
    {
      "cell_type": "code",
      "execution_count": null,
      "id": "da93e26f-30ea-46be-a3ee-5107d1a3e005",
      "metadata": {
        "id": "da93e26f-30ea-46be-a3ee-5107d1a3e005"
      },
      "outputs": [],
      "source": [
        "!echo \"abc\" >> index.html"
      ]
    },
    {
      "cell_type": "code",
      "execution_count": null,
      "id": "ec5f0c4f-9972-4f78-8905-053d730e04e7",
      "metadata": {
        "id": "ec5f0c4f-9972-4f78-8905-053d730e04e7",
        "outputId": "3ee463a9-bfe9-40ef-ebd0-29f36a506e43"
      },
      "outputs": [
        {
          "name": "stdout",
          "output_type": "stream",
          "text": [
            "On branch main\n",
            "Changes not staged for commit:\n",
            "  (use \"git add <file>...\" to update what will be committed)\n",
            "  (use \"git restore <file>...\" to discard changes in working directory)\n",
            "\t\u001b[31mmodified:   index.html\u001b[m\n",
            "\n",
            "no changes added to commit (use \"git add\" and/or \"git commit -a\")\n"
          ]
        }
      ],
      "source": [
        "!git status"
      ]
    },
    {
      "cell_type": "markdown",
      "id": "910950f0-cbba-4fb1-84b4-63e21861629d",
      "metadata": {
        "id": "910950f0-cbba-4fb1-84b4-63e21861629d"
      },
      "source": [
        "![image.png](attachment:10818b1f-1736-440b-88b7-5e65e4932d1e.png)\n",
        "\n",
        "(from Learn Enough Developer Tools to Be Dangerous By Michael Hartl)"
      ]
    },
    {
      "cell_type": "code",
      "execution_count": null,
      "id": "8bd928b2-16db-49f6-921f-51e59f609478",
      "metadata": {
        "id": "8bd928b2-16db-49f6-921f-51e59f609478",
        "outputId": "f4012d0a-38a3-4761-c5b5-cc57508ad568"
      },
      "outputs": [
        {
          "name": "stdout",
          "output_type": "stream",
          "text": [
            " \u001b[31mM\u001b[m index.html\n"
          ]
        }
      ],
      "source": [
        "!git status --short;"
      ]
    },
    {
      "cell_type": "code",
      "execution_count": null,
      "id": "a14cd1da-e492-45a4-8542-bb0b08fa5301",
      "metadata": {
        "id": "a14cd1da-e492-45a4-8542-bb0b08fa5301",
        "outputId": "8eae6965-3339-44b1-dfcc-07279924b8d0"
      },
      "outputs": [
        {
          "name": "stdout",
          "output_type": "stream",
          "text": [
            "[main f207506] updated index.html with a newline\n",
            " 1 file changed, 1 insertion(+)\n"
          ]
        }
      ],
      "source": [
        "!git commit -a -m \"updated index.html with a newline\""
      ]
    },
    {
      "cell_type": "code",
      "execution_count": null,
      "id": "9291a30a-8a68-4018-b7de-d00952977c86",
      "metadata": {
        "id": "9291a30a-8a68-4018-b7de-d00952977c86",
        "outputId": "41d18e73-265e-48d1-c9d6-2959c9e4790b"
      },
      "outputs": [
        {
          "name": "stdout",
          "output_type": "stream",
          "text": [
            "\u001b[33mcommit f20750697ba39c4056a6c8c1d77752599c15b015\u001b[m\u001b[33m (\u001b[m\u001b[1;36mHEAD -> \u001b[m\u001b[1;32mmain\u001b[m\u001b[33m)\u001b[m\n",
            "Author: Madhav <madhavk@cse.iitb.ac.in>\n",
            "Date:   Sun Mar 30 23:49:12 2025 +0530\n",
            "\n",
            "    updated index.html with a newline\n",
            "\n",
            "\u001b[33mcommit 2ad21827452cea3e2b6db92694288924d0715992\u001b[m\n",
            "Author: Madhav <madhavk@cse.iitb.ac.in>\n",
            "Date:   Sun Mar 30 23:43:08 2025 +0530\n",
            "\n",
            "    1st release\n"
          ]
        }
      ],
      "source": [
        "!git log"
      ]
    },
    {
      "cell_type": "markdown",
      "id": "f5f92a99",
      "metadata": {
        "id": "f5f92a99"
      },
      "source": [
        "*How do I go back to an earlier version of the file?*\n",
        "*What happens when I go back to an earlier version of the file*"
      ]
    },
    {
      "cell_type": "code",
      "execution_count": null,
      "id": "dd324b80-dfdf-465c-9d26-3a571b04c379",
      "metadata": {
        "id": "dd324b80-dfdf-465c-9d26-3a571b04c379",
        "outputId": "96fee6a5-79f9-4d5c-c829-7268dc315d13"
      },
      "outputs": [
        {
          "name": "stdout",
          "output_type": "stream",
          "text": [
            "usage: git [-v | --version] [-h | --help] [-C <path>] [-c <name>=<value>]\n",
            "           [--exec-path[=<path>]] [--html-path] [--man-path] [--info-path]\n",
            "           [-p | --paginate | -P | --no-pager] [--no-replace-objects] [--bare]\n",
            "           [--git-dir=<path>] [--work-tree=<path>] [--namespace=<name>]\n",
            "           [--super-prefix=<path>] [--config-env=<name>=<envvar>]\n",
            "           <command> [<args>]\n",
            "\n",
            "These are common Git commands used in various situations:\n",
            "\n",
            "start a working area (see also: git help tutorial)\n",
            "   clone     Clone a repository into a new directory\n",
            "   init      Create an empty Git repository or reinitialize an existing one\n",
            "\n",
            "work on the current change (see also: git help everyday)\n",
            "   add       Add file contents to the index\n",
            "   mv        Move or rename a file, a directory, or a symlink\n",
            "   restore   Restore working tree files\n",
            "   rm        Remove files from the working tree and from the index\n",
            "\n",
            "examine the history and state (see also: git help revisions)\n",
            "   bisect    Use binary search to find the commit that introduced a bug\n",
            "   diff      Show changes between commits, commit and working tree, etc\n",
            "   grep      Print lines matching a pattern\n",
            "   log       Show commit logs\n",
            "   show      Show various types of objects\n",
            "   status    Show the working tree status\n",
            "\n",
            "grow, mark and tweak your common history\n",
            "   branch    List, create, or delete branches\n",
            "   commit    Record changes to the repository\n",
            "   merge     Join two or more development histories together\n",
            "   rebase    Reapply commits on top of another base tip\n",
            "   reset     Reset current HEAD to the specified state\n",
            "   switch    Switch branches\n",
            "   tag       Create, list, delete or verify a tag object signed with GPG\n",
            "\n",
            "collaborate (see also: git help workflows)\n",
            "   fetch     Download objects and refs from another repository\n",
            "   pull      Fetch from and integrate with another repository or a local branch\n",
            "   push      Update remote refs along with associated objects\n",
            "\n",
            "'git help -a' and 'git help -g' list available subcommands and some\n",
            "concept guides. See 'git help <command>' or 'git help <concept>'\n",
            "to read about a specific subcommand or concept.\n",
            "See 'git help git' for an overview of the system.\n"
          ]
        }
      ],
      "source": [
        "!git help"
      ]
    },
    {
      "cell_type": "code",
      "execution_count": null,
      "id": "e090f46f-bfba-45ee-ad7b-8a42c6fc2cd7",
      "metadata": {
        "id": "e090f46f-bfba-45ee-ad7b-8a42c6fc2cd7",
        "outputId": "60f0ceea-c601-439f-fe93-6fd00b832c13"
      },
      "outputs": [
        {
          "name": "stdout",
          "output_type": "stream",
          "text": [
            "Unknown locale, assuming C\n",
            "GIT-CHECKOUT(1)                   Git Manual                   GIT-CHECKOUT(1)\n",
            "\n",
            "NAME\n",
            "       git-checkout - Switch branches or restore working tree files\n",
            "\n",
            "SYNOPSIS\n",
            "       git checkout [-q] [-f] [-m] [<branch>]\n",
            "       git checkout [-q] [-f] [-m] --detach [<branch>]\n",
            "       git checkout [-q] [-f] [-m] [--detach] <commit>\n",
            "       git checkout [-q] [-f] [-m] [[-b|-B|--orphan] <new-branch>] [<start-point>]\n",
            "       git checkout [-f|--ours|--theirs|-m|--conflict=<style>] [<tree-ish>] [--] <pathspec>...\n",
            "       git checkout [-f|--ours|--theirs|-m|--conflict=<style>] [<tree-ish>] --pathspec-from-file=<file> [--pathspec-file-nul]\n",
            "       git checkout (-p|--patch) [<tree-ish>] [--] [<pathspec>...]\n",
            "\n",
            "\n",
            "DESCRIPTION\n",
            "       Updates files in the working tree to match the version in the index or\n",
            "       the specified tree. If no pathspec was given, git checkout will also\n",
            "       update HEAD to set the specified branch as the current branch.\n",
            "\n",
            "       git checkout [<branch>]\n",
            "           To prepare for working on <branch>, switch to it by updating the\n",
            "           index and the files in the working tree, and by pointing HEAD at\n",
            "           the branch. Local modifications to the files in the working tree\n",
            "           are kept, so that they can be committed to the <branch>.\n",
            "\n",
            "           If <branch> is not found but there does exist a tracking branch in\n",
            "           exactly one remote (call it <remote>) with a matching name and\n",
            "           --no-guess is not specified, treat as equivalent to\n",
            "\n",
            "               $ git checkout -b <branch> --track <remote>/<branch>\n",
            "\n",
            "           You could omit <branch>, in which case the command degenerates to\n",
            "           \"check out the current branch\", which is a glorified no-op with\n",
            "           rather expensive side-effects to show only the tracking\n",
            "           information, if exists, for the current branch.\n",
            "\n",
            "       git checkout -b|-B <new-branch> [<start-point>]\n",
            "           Specifying -b causes a new branch to be created as if git-branch(1)\n",
            "           were called and then checked out. In this case you can use the\n",
            "           --track or --no-track options, which will be passed to git branch.\n",
            "           As a convenience, --track without -b implies branch creation; see\n",
            "           the description of --track below.\n",
            "\n",
            "           If -B is given, <new-branch> is created if it doesn’t exist;\n",
            "           otherwise, it is reset. This is the transactional equivalent of\n",
            "\n",
            "               $ git branch -f <branch> [<start-point>]\n",
            "               $ git checkout <branch>\n",
            "\n",
            "           that is to say, the branch is not reset/created unless \"git\n",
            "           checkout\" is successful.\n",
            "\n",
            "       git checkout --detach [<branch>], git checkout [--detach] <commit>\n",
            "           Prepare to work on top of <commit>, by detaching HEAD at it (see\n",
            "           \"DETACHED HEAD\" section), and updating the index and the files in\n",
            "           the working tree. Local modifications to the files in the working\n",
            "           tree are kept, so that the resulting working tree will be the state\n",
            "           recorded in the commit plus the local modifications.\n",
            "\n",
            "           When the <commit> argument is a branch name, the --detach option\n",
            "           can be used to detach HEAD at the tip of the branch (git checkout\n",
            "           <branch> would check out that branch without detaching HEAD).\n",
            "\n",
            "           Omitting <branch> detaches HEAD at the tip of the current branch.\n",
            "\n",
            "       git checkout [-f|--ours|--theirs|-m|--conflict=<style>] [<tree-ish>]\n",
            "       [--] <pathspec>..., git checkout\n",
            "       [-f|--ours|--theirs|-m|--conflict=<style>] [<tree-ish>]\n",
            "       --pathspec-from-file=<file> [--pathspec-file-nul]\n",
            "           Overwrite the contents of the files that match the pathspec. When\n",
            "           the <tree-ish> (most often a commit) is not given, overwrite\n",
            "           working tree with the contents in the index. When the <tree-ish> is\n",
            "           given, overwrite both the index and the working tree with the\n",
            "           contents at the <tree-ish>.\n",
            "\n",
            "           The index may contain unmerged entries because of a previous failed\n",
            "           merge. By default, if you try to check out such an entry from the\n",
            "           index, the checkout operation will fail and nothing will be checked\n",
            "           out. Using -f will ignore these unmerged entries. The contents from\n",
            "           a specific side of the merge can be checked out of the index by\n",
            "           using --ours or --theirs. With -m, changes made to the working tree\n",
            "           file can be discarded to re-create the original conflicted merge\n",
            "           result.\n",
            "\n",
            "       git checkout (-p|--patch) [<tree-ish>] [--] [<pathspec>...]\n",
            "           This is similar to the previous mode, but lets you use the\n",
            "           interactive interface to show the \"diff\" output and choose which\n",
            "           hunks to use in the result. See below for the description of\n",
            "           --patch option.\n",
            "\n",
            "OPTIONS\n",
            "       -q, --quiet\n",
            "           Quiet, suppress feedback messages.\n",
            "\n",
            "       --progress, --no-progress\n",
            "           Progress status is reported on the standard error stream by default\n",
            "           when it is attached to a terminal, unless --quiet is specified.\n",
            "           This flag enables progress reporting even if not attached to a\n",
            "           terminal, regardless of --quiet.\n",
            "\n",
            "       -f, --force\n",
            "           When switching branches, proceed even if the index or the working\n",
            "           tree differs from HEAD, and even if there are untracked files in\n",
            "           the way. This is used to throw away local changes and any untracked\n",
            "           files or directories that are in the way.\n",
            "\n",
            "           When checking out paths from the index, do not fail upon unmerged\n",
            "           entries; instead, unmerged entries are ignored.\n",
            "\n",
            "       --ours, --theirs\n",
            "           When checking out paths from the index, check out stage #2 (ours)\n",
            "           or #3 (theirs) for unmerged paths.\n",
            "\n",
            "           Note that during git rebase and git pull --rebase, ours and theirs\n",
            "           may appear swapped; --ours gives the version from the branch the\n",
            "           changes are rebased onto, while --theirs gives the version from the\n",
            "           branch that holds your work that is being rebased.\n",
            "\n",
            "           This is because rebase is used in a workflow that treats the\n",
            "           history at the remote as the shared canonical one, and treats the\n",
            "           work done on the branch you are rebasing as the third-party work to\n",
            "           be integrated, and you are temporarily assuming the role of the\n",
            "           keeper of the canonical history during the rebase. As the keeper of\n",
            "           the canonical history, you need to view the history from the remote\n",
            "           as ours (i.e. \"our shared canonical history\"), while what you did\n",
            "           on your side branch as theirs (i.e. \"one contributor’s work on top\n",
            "           of it\").\n",
            "\n",
            "       -b <new-branch>\n",
            "           Create a new branch named <new-branch> and start it at\n",
            "           <start-point>; see git-branch(1) for details.\n",
            "\n",
            "       -B <new-branch>\n",
            "           Creates the branch <new-branch> and start it at <start-point>; if\n",
            "           it already exists, then reset it to <start-point>. This is\n",
            "           equivalent to running \"git branch\" with \"-f\"; see git-branch(1) for\n",
            "           details.\n",
            "\n",
            "       -t, --track[=(direct|inherit)]\n",
            "           When creating a new branch, set up \"upstream\" configuration. See\n",
            "           \"--track\" in git-branch(1) for details.\n",
            "\n",
            "           If no -b option is given, the name of the new branch will be\n",
            "           derived from the remote-tracking branch, by looking at the local\n",
            "           part of the refspec configured for the corresponding remote, and\n",
            "           then stripping the initial part up to the \"*\". This would tell us\n",
            "           to use hack as the local branch when branching off of origin/hack\n",
            "           (or remotes/origin/hack, or even refs/remotes/origin/hack). If the\n",
            "           given name has no slash, or the above guessing results in an empty\n",
            "           name, the guessing is aborted. You can explicitly give a name with\n",
            "           -b in such a case.\n",
            "\n",
            "       --no-track\n",
            "           Do not set up \"upstream\" configuration, even if the\n",
            "           branch.autoSetupMerge configuration variable is true.\n",
            "\n",
            "       --guess, --no-guess\n",
            "           If <branch> is not found but there does exist a tracking branch in\n",
            "           exactly one remote (call it <remote>) with a matching name, treat\n",
            "           as equivalent to\n",
            "\n",
            "               $ git checkout -b <branch> --track <remote>/<branch>\n",
            "\n",
            "           If the branch exists in multiple remotes and one of them is named\n",
            "           by the checkout.defaultRemote configuration variable, we’ll use\n",
            "           that one for the purposes of disambiguation, even if the <branch>\n",
            "           isn’t unique across all remotes. Set it to e.g.\n",
            "           checkout.defaultRemote=origin to always checkout remote branches\n",
            "           from there if <branch> is ambiguous but exists on the origin\n",
            "           remote. See also checkout.defaultRemote in git-config(1).\n",
            "\n",
            "           --guess is the default behavior. Use --no-guess to disable it.\n",
            "\n",
            "           The default behavior can be set via the checkout.guess\n",
            "           configuration variable.\n",
            "\n",
            "       -l\n",
            "           Create the new branch’s reflog; see git-branch(1) for details.\n",
            "\n",
            "       -d, --detach\n",
            "           Rather than checking out a branch to work on it, check out a commit\n",
            "           for inspection and discardable experiments. This is the default\n",
            "           behavior of git checkout <commit> when <commit> is not a branch\n",
            "           name. See the \"DETACHED HEAD\" section below for details.\n",
            "\n",
            "       --orphan <new-branch>\n",
            "           Create a new orphan branch, named <new-branch>, started from\n",
            "           <start-point> and switch to it. The first commit made on this new\n",
            "           branch will have no parents and it will be the root of a new\n",
            "           history totally disconnected from all the other branches and\n",
            "           commits.\n",
            "\n",
            "           The index and the working tree are adjusted as if you had\n",
            "           previously run git checkout <start-point>. This allows you to start\n",
            "           a new history that records a set of paths similar to <start-point>\n",
            "           by easily running git commit -a to make the root commit.\n",
            "\n",
            "           This can be useful when you want to publish the tree from a commit\n",
            "           without exposing its full history. You might want to do this to\n",
            "           publish an open source branch of a project whose current tree is\n",
            "           \"clean\", but whose full history contains proprietary or otherwise\n",
            "           encumbered bits of code.\n",
            "\n",
            "           If you want to start a disconnected history that records a set of\n",
            "           paths that is totally different from the one of <start-point>, then\n",
            "           you should clear the index and the working tree right after\n",
            "           creating the orphan branch by running git rm -rf . from the top\n",
            "           level of the working tree. Afterwards you will be ready to prepare\n",
            "           your new files, repopulating the working tree, by copying them from\n",
            "           elsewhere, extracting a tarball, etc.\n",
            "\n",
            "       --ignore-skip-worktree-bits\n",
            "           In sparse checkout mode, git checkout -- <paths> would update only\n",
            "           entries matched by <paths> and sparse patterns in\n",
            "           $GIT_DIR/info/sparse-checkout. This option ignores the sparse\n",
            "           patterns and adds back any files in <paths>.\n",
            "\n",
            "       -m, --merge\n",
            "           When switching branches, if you have local modifications to one or\n",
            "           more files that are different between the current branch and the\n",
            "           branch to which you are switching, the command refuses to switch\n",
            "           branches in order to preserve your modifications in context.\n",
            "           However, with this option, a three-way merge between the current\n",
            "           branch, your working tree contents, and the new branch is done, and\n",
            "           you will be on the new branch.\n",
            "\n",
            "           When a merge conflict happens, the index entries for conflicting\n",
            "           paths are left unmerged, and you need to resolve the conflicts and\n",
            "           mark the resolved paths with git add (or git rm if the merge should\n",
            "           result in deletion of the path).\n",
            "\n",
            "           When checking out paths from the index, this option lets you\n",
            "           recreate the conflicted merge in the specified paths.\n",
            "\n",
            "           When switching branches with --merge, staged changes may be lost.\n",
            "\n",
            "       --conflict=<style>\n",
            "           The same as --merge option above, but changes the way the\n",
            "           conflicting hunks are presented, overriding the merge.conflictStyle\n",
            "           configuration variable. Possible values are \"merge\" (default),\n",
            "           \"diff3\", and \"zdiff3\".\n",
            "\n",
            "       -p, --patch\n",
            "           Interactively select hunks in the difference between the <tree-ish>\n",
            "           (or the index, if unspecified) and the working tree. The chosen\n",
            "           hunks are then applied in reverse to the working tree (and if a\n",
            "           <tree-ish> was specified, the index).\n",
            "\n",
            "           This means that you can use git checkout -p to selectively discard\n",
            "           edits from your current working tree. See the “Interactive Mode”\n",
            "           section of git-add(1) to learn how to operate the --patch mode.\n",
            "\n",
            "           Note that this option uses the no overlay mode by default (see also\n",
            "           --overlay), and currently doesn’t support overlay mode.\n",
            "\n",
            "       --ignore-other-worktrees\n",
            "           git checkout refuses when the wanted ref is already checked out by\n",
            "           another worktree. This option makes it check the ref out anyway. In\n",
            "           other words, the ref can be held by more than one worktree.\n",
            "\n",
            "       --overwrite-ignore, --no-overwrite-ignore\n",
            "           Silently overwrite ignored files when switching branches. This is\n",
            "           the default behavior. Use --no-overwrite-ignore to abort the\n",
            "           operation when the new branch contains ignored files.\n",
            "\n",
            "       --recurse-submodules, --no-recurse-submodules\n",
            "           Using --recurse-submodules will update the content of all active\n",
            "           submodules according to the commit recorded in the superproject. If\n",
            "           local modifications in a submodule would be overwritten the\n",
            "           checkout will fail unless -f is used. If nothing (or\n",
            "           --no-recurse-submodules) is used, submodules working trees will not\n",
            "           be updated. Just like git-submodule(1), this will detach HEAD of\n",
            "           the submodule.\n",
            "\n",
            "       --overlay, --no-overlay\n",
            "           In the default overlay mode, git checkout never removes files from\n",
            "           the index or the working tree. When specifying --no-overlay, files\n",
            "           that appear in the index and working tree, but not in <tree-ish>\n",
            "           are removed, to make them match <tree-ish> exactly.\n",
            "\n",
            "       --pathspec-from-file=<file>\n",
            "           Pathspec is passed in <file> instead of commandline args. If <file>\n",
            "           is exactly - then standard input is used. Pathspec elements are\n",
            "           separated by LF or CR/LF. Pathspec elements can be quoted as\n",
            "           explained for the configuration variable core.quotePath (see git-\n",
            "           config(1)). See also --pathspec-file-nul and global\n",
            "           --literal-pathspecs.\n",
            "\n",
            "       --pathspec-file-nul\n",
            "           Only meaningful with --pathspec-from-file. Pathspec elements are\n",
            "           separated with NUL character and all other characters are taken\n",
            "           literally (including newlines and quotes).\n",
            "\n",
            "       <branch>\n",
            "           Branch to checkout; if it refers to a branch (i.e., a name that,\n",
            "           when prepended with \"refs/heads/\", is a valid ref), then that\n",
            "           branch is checked out. Otherwise, if it refers to a valid commit,\n",
            "           your HEAD becomes \"detached\" and you are no longer on any branch\n",
            "           (see below for details).\n",
            "\n",
            "           You can use the @{-N} syntax to refer to the N-th last\n",
            "           branch/commit checked out using \"git checkout\" operation. You may\n",
            "           also specify - which is synonymous to @{-1}.\n",
            "\n",
            "           As a special case, you may use A...B as a shortcut for the merge\n",
            "           base of A and B if there is exactly one merge base. You can leave\n",
            "           out at most one of A and B, in which case it defaults to HEAD.\n",
            "\n",
            "       <new-branch>\n",
            "           Name for the new branch.\n",
            "\n",
            "       <start-point>\n",
            "           The name of a commit at which to start the new branch; see git-\n",
            "           branch(1) for details. Defaults to HEAD.\n",
            "\n",
            "           As a special case, you may use \"A...B\" as a shortcut for the merge\n",
            "           base of A and B if there is exactly one merge base. You can leave\n",
            "           out at most one of A and B, in which case it defaults to HEAD.\n",
            "\n",
            "       <tree-ish>\n",
            "           Tree to checkout from (when paths are given). If not specified, the\n",
            "           index will be used.\n",
            "\n",
            "           As a special case, you may use \"A...B\" as a shortcut for the merge\n",
            "           base of A and B if there is exactly one merge base. You can leave\n",
            "           out at most one of A and B, in which case it defaults to HEAD.\n",
            "\n",
            "       --\n",
            "           Do not interpret any more arguments as options.\n",
            "\n",
            "       <pathspec>...\n",
            "           Limits the paths affected by the operation.\n",
            "\n",
            "           For more details, see the pathspec entry in gitglossary(7).\n",
            "\n",
            "DETACHED HEAD\n",
            "       HEAD normally refers to a named branch (e.g. master). Meanwhile, each\n",
            "       branch refers to a specific commit. Let’s look at a repo with three\n",
            "       commits, one of them tagged, and with branch master checked out:\n",
            "\n",
            "                      HEAD (refers to branch 'master')\n",
            "                       |\n",
            "                       v\n",
            "           a---b---c  branch 'master' (refers to commit 'c')\n",
            "               ^\n",
            "               |\n",
            "             tag 'v2.0' (refers to commit 'b')\n",
            "\n",
            "\n",
            "       When a commit is created in this state, the branch is updated to refer\n",
            "       to the new commit. Specifically, git commit creates a new commit d,\n",
            "       whose parent is commit c, and then updates branch master to refer to\n",
            "       new commit d. HEAD still refers to branch master and so indirectly now\n",
            "       refers to commit d:\n",
            "\n",
            "           $ edit; git add; git commit\n",
            "\n",
            "                          HEAD (refers to branch 'master')\n",
            "                           |\n",
            "                           v\n",
            "           a---b---c---d  branch 'master' (refers to commit 'd')\n",
            "               ^\n",
            "               |\n",
            "             tag 'v2.0' (refers to commit 'b')\n",
            "\n",
            "\n",
            "       It is sometimes useful to be able to checkout a commit that is not at\n",
            "       the tip of any named branch, or even to create a new commit that is not\n",
            "       referenced by a named branch. Let’s look at what happens when we\n",
            "       checkout commit b (here we show two ways this may be done):\n",
            "\n",
            "           $ git checkout v2.0  # or\n",
            "           $ git checkout master^^\n",
            "\n",
            "              HEAD (refers to commit 'b')\n",
            "               |\n",
            "               v\n",
            "           a---b---c---d  branch 'master' (refers to commit 'd')\n",
            "               ^\n",
            "               |\n",
            "             tag 'v2.0' (refers to commit 'b')\n",
            "\n",
            "\n",
            "       Notice that regardless of which checkout command we use, HEAD now\n",
            "       refers directly to commit b. This is known as being in detached HEAD\n",
            "       state. It means simply that HEAD refers to a specific commit, as\n",
            "       opposed to referring to a named branch. Let’s see what happens when we\n",
            "       create a commit:\n",
            "\n",
            "           $ edit; git add; git commit\n",
            "\n",
            "                HEAD (refers to commit 'e')\n",
            "                 |\n",
            "                 v\n",
            "                 e\n",
            "                /\n",
            "           a---b---c---d  branch 'master' (refers to commit 'd')\n",
            "               ^\n",
            "               |\n",
            "             tag 'v2.0' (refers to commit 'b')\n",
            "\n",
            "\n",
            "       There is now a new commit e, but it is referenced only by HEAD. We can\n",
            "       of course add yet another commit in this state:\n",
            "\n",
            "           $ edit; git add; git commit\n",
            "\n",
            "                    HEAD (refers to commit 'f')\n",
            "                     |\n",
            "                     v\n",
            "                 e---f\n",
            "                /\n",
            "           a---b---c---d  branch 'master' (refers to commit 'd')\n",
            "               ^\n",
            "               |\n",
            "             tag 'v2.0' (refers to commit 'b')\n",
            "\n",
            "\n",
            "       In fact, we can perform all the normal Git operations. But, let’s look\n",
            "       at what happens when we then checkout master:\n",
            "\n",
            "           $ git checkout master\n",
            "\n",
            "                          HEAD (refers to branch 'master')\n",
            "                 e---f     |\n",
            "                /          v\n",
            "           a---b---c---d  branch 'master' (refers to commit 'd')\n",
            "               ^\n",
            "               |\n",
            "             tag 'v2.0' (refers to commit 'b')\n",
            "\n",
            "\n",
            "       It is important to realize that at this point nothing refers to commit\n",
            "       f. Eventually commit f (and by extension commit e) will be deleted by\n",
            "       the routine Git garbage collection process, unless we create a\n",
            "       reference before that happens. If we have not yet moved away from\n",
            "       commit f, any of these will create a reference to it:\n",
            "\n",
            "           $ git checkout -b foo   (1)\n",
            "           $ git branch foo        (2)\n",
            "           $ git tag foo           (3)\n",
            "\n",
            "\n",
            "       1. creates a new branch foo, which refers to commit f, and then updates\n",
            "       HEAD to refer to branch foo. In other words, we’ll no longer be in\n",
            "       detached HEAD state after this command.\n",
            "       2. similarly creates a new branch foo, which refers to commit f, but\n",
            "       leaves HEAD detached.\n",
            "       3. creates a new tag foo, which refers to commit f, leaving HEAD\n",
            "       detached.\n",
            "\n",
            "       If we have moved away from commit f, then we must first recover its\n",
            "       object name (typically by using git reflog), and then we can create a\n",
            "       reference to it. For example, to see the last two commits to which HEAD\n",
            "       referred, we can use either of these commands:\n",
            "\n",
            "           $ git reflog -2 HEAD # or\n",
            "           $ git log -g -2 HEAD\n",
            "\n",
            "\n",
            "ARGUMENT DISAMBIGUATION\n",
            "       When there is only one argument given and it is not -- (e.g. git\n",
            "       checkout abc), and when the argument is both a valid <tree-ish> (e.g. a\n",
            "       branch abc exists) and a valid <pathspec> (e.g. a file or a directory\n",
            "       whose name is \"abc\" exists), Git would usually ask you to disambiguate.\n",
            "       Because checking out a branch is so common an operation, however, git\n",
            "       checkout abc takes \"abc\" as a <tree-ish> in such a situation. Use git\n",
            "       checkout -- <pathspec> if you want to checkout these paths out of the\n",
            "       index.\n",
            "\n",
            "EXAMPLES\n",
            "        1. The following sequence checks out the master branch, reverts the\n",
            "           Makefile to two revisions back, deletes hello.c by mistake, and\n",
            "           gets it back from the index.\n",
            "\n",
            "               $ git checkout master             (1)\n",
            "               $ git checkout master~2 Makefile  (2)\n",
            "               $ rm -f hello.c\n",
            "               $ git checkout hello.c            (3)\n",
            "\n",
            "           1. switch branch\n",
            "           2. take a file out of another commit\n",
            "           3. restore hello.c from the index\n",
            "\n",
            "           If you want to check out all C source files out of the index, you\n",
            "           can say\n",
            "\n",
            "               $ git checkout -- '*.c'\n",
            "\n",
            "           Note the quotes around *.c. The file hello.c will also be checked\n",
            "           out, even though it is no longer in the working tree, because the\n",
            "           file globbing is used to match entries in the index (not in the\n",
            "           working tree by the shell).\n",
            "\n",
            "           If you have an unfortunate branch that is named hello.c, this step\n",
            "           would be confused as an instruction to switch to that branch. You\n",
            "           should instead write:\n",
            "\n",
            "               $ git checkout -- hello.c\n",
            "\n",
            "\n",
            "        2. After working in the wrong branch, switching to the correct branch\n",
            "           would be done using:\n",
            "\n",
            "               $ git checkout mytopic\n",
            "\n",
            "           However, your \"wrong\" branch and correct mytopic branch may differ\n",
            "           in files that you have modified locally, in which case the above\n",
            "           checkout would fail like this:\n",
            "\n",
            "               $ git checkout mytopic\n",
            "               error: You have local changes to 'frotz'; not switching branches.\n",
            "\n",
            "           You can give the -m flag to the command, which would try a\n",
            "           three-way merge:\n",
            "\n",
            "               $ git checkout -m mytopic\n",
            "               Auto-merging frotz\n",
            "\n",
            "           After this three-way merge, the local modifications are not\n",
            "           registered in your index file, so git diff would show you what\n",
            "           changes you made since the tip of the new branch.\n",
            "\n",
            "        3. When a merge conflict happens during switching branches with the -m\n",
            "           option, you would see something like this:\n",
            "\n",
            "               $ git checkout -m mytopic\n",
            "               Auto-merging frotz\n",
            "               ERROR: Merge conflict in frotz\n",
            "               fatal: merge program failed\n",
            "\n",
            "           At this point, git diff shows the changes cleanly merged as in the\n",
            "           previous example, as well as the changes in the conflicted files.\n",
            "           Edit and resolve the conflict and mark it resolved with git add as\n",
            "           usual:\n",
            "\n",
            "               $ edit frotz\n",
            "               $ git add frotz\n",
            "\n",
            "\n",
            "CONFIGURATION\n",
            "       Everything below this line in this section is selectively included from\n",
            "       the git-config(1) documentation. The content is the same as what’s\n",
            "       found there:\n",
            "\n",
            "       checkout.defaultRemote\n",
            "           When you run git checkout <something> or git switch <something> and\n",
            "           only have one remote, it may implicitly fall back on checking out\n",
            "           and tracking e.g.  origin/<something>. This stops working as soon\n",
            "           as you have more than one remote with a <something> reference. This\n",
            "           setting allows for setting the name of a preferred remote that\n",
            "           should always win when it comes to disambiguation. The typical\n",
            "           use-case is to set this to origin.\n",
            "\n",
            "           Currently this is used by git-switch(1) and git-checkout(1) when\n",
            "           git checkout <something> or git switch <something> will checkout\n",
            "           the <something> branch on another remote, and by git-worktree(1)\n",
            "           when git worktree add refers to a remote branch. This setting might\n",
            "           be used for other checkout-like commands or functionality in the\n",
            "           future.\n",
            "\n",
            "       checkout.guess\n",
            "           Provides the default value for the --guess or --no-guess option in\n",
            "           git checkout and git switch. See git-switch(1) and git-checkout(1).\n",
            "\n",
            "       checkout.workers\n",
            "           The number of parallel workers to use when updating the working\n",
            "           tree. The default is one, i.e. sequential execution. If set to a\n",
            "           value less than one, Git will use as many workers as the number of\n",
            "           logical cores available. This setting and\n",
            "           checkout.thresholdForParallelism affect all commands that perform\n",
            "           checkout. E.g. checkout, clone, reset, sparse-checkout, etc.\n",
            "\n",
            "           Note: parallel checkout usually delivers better performance for\n",
            "           repositories located on SSDs or over NFS. For repositories on\n",
            "           spinning disks and/or machines with a small number of cores, the\n",
            "           default sequential checkout often performs better. The size and\n",
            "           compression level of a repository might also influence how well the\n",
            "           parallel version performs.\n",
            "\n",
            "       checkout.thresholdForParallelism\n",
            "           When running parallel checkout with a small number of files, the\n",
            "           cost of subprocess spawning and inter-process communication might\n",
            "           outweigh the parallelization gains. This setting allows to define\n",
            "           the minimum number of files for which parallel checkout should be\n",
            "           attempted. The default is 100.\n",
            "\n",
            "SEE ALSO\n",
            "       git-switch(1), git-restore(1)\n",
            "\n",
            "GIT\n",
            "       Part of the git(1) suite\n",
            "\n",
            "Git 2.39.0                        12/12/2022                   GIT-CHECKOUT(1)\n"
          ]
        }
      ],
      "source": [
        "!git help checkout"
      ]
    },
    {
      "cell_type": "markdown",
      "id": "5cf4765b",
      "metadata": {
        "id": "5cf4765b"
      },
      "source": [
        "**If it sounds complicated, just use the following**"
      ]
    },
    {
      "cell_type": "code",
      "execution_count": null,
      "id": "c5fa32c1-ea93-42e6-ad6c-782d708f43f9",
      "metadata": {
        "id": "c5fa32c1-ea93-42e6-ad6c-782d708f43f9",
        "outputId": "ac113057-6a58-4a98-c232-0bc9dd5eabad"
      },
      "outputs": [
        {
          "name": "stdout",
          "output_type": "stream",
          "text": [
            "\u001b[33mcommit f20750697ba39c4056a6c8c1d77752599c15b015\u001b[m\u001b[33m (\u001b[m\u001b[1;36mHEAD\u001b[m\u001b[33m, \u001b[m\u001b[1;33mtag: v0\u001b[m\u001b[33m, \u001b[m\u001b[1;32mmain\u001b[m\u001b[33m)\u001b[m\n",
            "Author: Madhav <madhavk@cse.iitb.ac.in>\n",
            "Date:   Sun Mar 30 23:49:12 2025 +0530\n",
            "\n",
            "    updated index.html with a newline\n",
            "\n",
            "\u001b[33mcommit 2ad21827452cea3e2b6db92694288924d0715992\u001b[m\n",
            "Author: Madhav <madhavk@cse.iitb.ac.in>\n",
            "Date:   Sun Mar 30 23:43:08 2025 +0530\n",
            "\n",
            "    1st release\n"
          ]
        }
      ],
      "source": [
        "!git log"
      ]
    },
    {
      "cell_type": "code",
      "execution_count": null,
      "id": "51d1bb4a-d904-4fc1-ac82-fa1aea050fe8",
      "metadata": {
        "id": "51d1bb4a-d904-4fc1-ac82-fa1aea050fe8",
        "outputId": "959d096a-2966-4539-9cf2-fa800cc8cd86"
      },
      "outputs": [
        {
          "name": "stdout",
          "output_type": "stream",
          "text": [
            "Updated 0 paths from 5cc554c\n"
          ]
        }
      ],
      "source": [
        "!git checkout f20750697ba39c4056a6c8c1d77752599c15b015 index.html"
      ]
    },
    {
      "cell_type": "code",
      "execution_count": null,
      "id": "793c39f4-7f01-45f6-bee5-e008e161c2cc",
      "metadata": {
        "id": "793c39f4-7f01-45f6-bee5-e008e161c2cc",
        "outputId": "987a8b9c-88e0-44db-a84d-b59c32a47d63"
      },
      "outputs": [
        {
          "name": "stdout",
          "output_type": "stream",
          "text": [
            "abc\n"
          ]
        }
      ],
      "source": [
        "!cat index.html"
      ]
    },
    {
      "cell_type": "markdown",
      "id": "46ad990f",
      "metadata": {
        "id": "46ad990f"
      },
      "source": [
        "**Ooops may you just wanted to see the earlier commit**"
      ]
    },
    {
      "cell_type": "markdown",
      "id": "d4b3e480",
      "metadata": {
        "id": "d4b3e480"
      },
      "source": [
        "We were already on main branch. We had just checked out a file.\n",
        "If we do this with many files, we will be confused.\n",
        "Just 'see' the earlier files rather than checking them out:\n",
        "git show <somehash>:path/to/file > new_filename.ext"
      ]
    },
    {
      "cell_type": "code",
      "execution_count": null,
      "id": "1a978bf3-0a1f-4d14-a297-7489c152414c",
      "metadata": {
        "id": "1a978bf3-0a1f-4d14-a297-7489c152414c"
      },
      "outputs": [],
      "source": [
        "!git show 2ad2182:index.html"
      ]
    },
    {
      "cell_type": "markdown",
      "id": "046203be",
      "metadata": {
        "id": "046203be"
      },
      "source": [
        "**there should be a better way to refer to versions**"
      ]
    },
    {
      "cell_type": "code",
      "execution_count": null,
      "id": "38f6e9be-5128-4836-9448-143e1c08d430",
      "metadata": {
        "id": "38f6e9be-5128-4836-9448-143e1c08d430",
        "outputId": "88c65629-08e3-4731-e256-a6c6fb3c9e6a"
      },
      "outputs": [
        {
          "name": "stdout",
          "output_type": "stream",
          "text": [
            "Unknown locale, assuming C\n",
            "GIT-TAG(1)                        Git Manual                        GIT-TAG(1)\n",
            "\n",
            "NAME\n",
            "       git-tag - Create, list, delete or verify a tag object signed with GPG\n",
            "\n",
            "SYNOPSIS\n",
            "       git tag [-a | -s | -u <key-id>] [-f] [-m <msg> | -F <file>] [-e]\n",
            "               <tagname> [<commit> | <object>]\n",
            "       git tag -d <tagname>...\n",
            "       git tag [-n[<num>]] -l [--contains <commit>] [--no-contains <commit>]\n",
            "               [--points-at <object>] [--column[=<options>] | --no-column]\n",
            "               [--create-reflog] [--sort=<key>] [--format=<format>]\n",
            "               [--merged <commit>] [--no-merged <commit>] [<pattern>...]\n",
            "       git tag -v [--format=<format>] <tagname>...\n",
            "\n",
            "\n",
            "DESCRIPTION\n",
            "       Add a tag reference in refs/tags/, unless -d/-l/-v is given to delete,\n",
            "       list or verify tags.\n",
            "\n",
            "       Unless -f is given, the named tag must not yet exist.\n",
            "\n",
            "       If one of -a, -s, or -u <key-id> is passed, the command creates a tag\n",
            "       object, and requires a tag message. Unless -m <msg> or -F <file> is\n",
            "       given, an editor is started for the user to type in the tag message.\n",
            "\n",
            "       If -m <msg> or -F <file> is given and -a, -s, and -u <key-id> are\n",
            "       absent, -a is implied.\n",
            "\n",
            "       Otherwise, a tag reference that points directly at the given object\n",
            "       (i.e., a lightweight tag) is created.\n",
            "\n",
            "       A GnuPG signed tag object will be created when -s or -u <key-id> is\n",
            "       used. When -u <key-id> is not used, the committer identity for the\n",
            "       current user is used to find the GnuPG key for signing. The\n",
            "       configuration variable gpg.program is used to specify custom GnuPG\n",
            "       binary.\n",
            "\n",
            "       Tag objects (created with -a, -s, or -u) are called \"annotated\" tags;\n",
            "       they contain a creation date, the tagger name and e-mail, a tagging\n",
            "       message, and an optional GnuPG signature. Whereas a \"lightweight\" tag\n",
            "       is simply a name for an object (usually a commit object).\n",
            "\n",
            "       Annotated tags are meant for release while lightweight tags are meant\n",
            "       for private or temporary object labels. For this reason, some git\n",
            "       commands for naming objects (like git describe) will ignore lightweight\n",
            "       tags by default.\n",
            "\n",
            "OPTIONS\n",
            "       -a, --annotate\n",
            "           Make an unsigned, annotated tag object\n",
            "\n",
            "       -s, --sign\n",
            "           Make a GPG-signed tag, using the default e-mail address’s key. The\n",
            "           default behavior of tag GPG-signing is controlled by tag.gpgSign\n",
            "           configuration variable if it exists, or disabled otherwise. See\n",
            "           git-config(1).\n",
            "\n",
            "       --no-sign\n",
            "           Override tag.gpgSign configuration variable that is set to force\n",
            "           each and every tag to be signed.\n",
            "\n",
            "       -u <key-id>, --local-user=<key-id>\n",
            "           Make a GPG-signed tag, using the given key.\n",
            "\n",
            "       -f, --force\n",
            "           Replace an existing tag with the given name (instead of failing)\n",
            "\n",
            "       -d, --delete\n",
            "           Delete existing tags with the given names.\n",
            "\n",
            "       -v, --verify\n",
            "           Verify the GPG signature of the given tag names.\n",
            "\n",
            "       -n<num>\n",
            "           <num> specifies how many lines from the annotation, if any, are\n",
            "           printed when using -l. Implies --list.\n",
            "\n",
            "           The default is not to print any annotation lines. If no number is\n",
            "           given to -n, only the first line is printed. If the tag is not\n",
            "           annotated, the commit message is displayed instead.\n",
            "\n",
            "       -l, --list\n",
            "           List tags. With optional <pattern>..., e.g.  git tag --list 'v-*',\n",
            "           list only the tags that match the pattern(s).\n",
            "\n",
            "           Running \"git tag\" without arguments also lists all tags. The\n",
            "           pattern is a shell wildcard (i.e., matched using fnmatch(3)).\n",
            "           Multiple patterns may be given; if any of them matches, the tag is\n",
            "           shown.\n",
            "\n",
            "           This option is implicitly supplied if any other list-like option\n",
            "           such as --contains is provided. See the documentation for each of\n",
            "           those options for details.\n",
            "\n",
            "       --sort=<key>\n",
            "           Sort based on the key given. Prefix - to sort in descending order\n",
            "           of the value. You may use the --sort=<key> option multiple times,\n",
            "           in which case the last key becomes the primary key. Also supports\n",
            "           \"version:refname\" or \"v:refname\" (tag names are treated as\n",
            "           versions). The \"version:refname\" sort order can also be affected by\n",
            "           the \"versionsort.suffix\" configuration variable. The keys supported\n",
            "           are the same as those in git for-each-ref. Sort order defaults to\n",
            "           the value configured for the tag.sort variable if it exists, or\n",
            "           lexicographic order otherwise. See git-config(1).\n",
            "\n",
            "       --color[=<when>]\n",
            "           Respect any colors specified in the --format option. The <when>\n",
            "           field must be one of always, never, or auto (if <when> is absent,\n",
            "           behave as if always was given).\n",
            "\n",
            "       -i, --ignore-case\n",
            "           Sorting and filtering tags are case insensitive.\n",
            "\n",
            "       --column[=<options>], --no-column\n",
            "           Display tag listing in columns. See configuration variable\n",
            "           column.tag for option syntax.  --column and --no-column without\n",
            "           options are equivalent to always and never respectively.\n",
            "\n",
            "           This option is only applicable when listing tags without annotation\n",
            "           lines.\n",
            "\n",
            "       --contains [<commit>]\n",
            "           Only list tags which contain the specified commit (HEAD if not\n",
            "           specified). Implies --list.\n",
            "\n",
            "       --no-contains [<commit>]\n",
            "           Only list tags which don’t contain the specified commit (HEAD if\n",
            "           not specified). Implies --list.\n",
            "\n",
            "       --merged [<commit>]\n",
            "           Only list tags whose commits are reachable from the specified\n",
            "           commit (HEAD if not specified).\n",
            "\n",
            "       --no-merged [<commit>]\n",
            "           Only list tags whose commits are not reachable from the specified\n",
            "           commit (HEAD if not specified).\n",
            "\n",
            "       --points-at <object>\n",
            "           Only list tags of the given object (HEAD if not specified). Implies\n",
            "           --list.\n",
            "\n",
            "       -m <msg>, --message=<msg>\n",
            "           Use the given tag message (instead of prompting). If multiple -m\n",
            "           options are given, their values are concatenated as separate\n",
            "           paragraphs. Implies -a if none of -a, -s, or -u <key-id> is given.\n",
            "\n",
            "       -F <file>, --file=<file>\n",
            "           Take the tag message from the given file. Use - to read the message\n",
            "           from the standard input. Implies -a if none of -a, -s, or -u\n",
            "           <key-id> is given.\n",
            "\n",
            "       -e, --edit\n",
            "           The message taken from file with -F and command line with -m are\n",
            "           usually used as the tag message unmodified. This option lets you\n",
            "           further edit the message taken from these sources.\n",
            "\n",
            "       --cleanup=<mode>\n",
            "           This option sets how the tag message is cleaned up. The <mode> can\n",
            "           be one of verbatim, whitespace and strip. The strip mode is\n",
            "           default. The verbatim mode does not change message at all,\n",
            "           whitespace removes just leading/trailing whitespace lines and strip\n",
            "           removes both whitespace and commentary.\n",
            "\n",
            "       --create-reflog\n",
            "           Create a reflog for the tag. To globally enable reflogs for tags,\n",
            "           see core.logAllRefUpdates in git-config(1). The negated form\n",
            "           --no-create-reflog only overrides an earlier --create-reflog, but\n",
            "           currently does not negate the setting of core.logAllRefUpdates.\n",
            "\n",
            "       --format=<format>\n",
            "           A string that interpolates %(fieldname) from a tag ref being shown\n",
            "           and the object it points at. The format is the same as that of git-\n",
            "           for-each-ref(1). When unspecified, defaults to %(refname:strip=2).\n",
            "\n",
            "       <tagname>\n",
            "           The name of the tag to create, delete, or describe. The new tag\n",
            "           name must pass all checks defined by git-check-ref-format(1). Some\n",
            "           of these checks may restrict the characters allowed in a tag name.\n",
            "\n",
            "       <commit>, <object>\n",
            "           The object that the new tag will refer to, usually a commit.\n",
            "           Defaults to HEAD.\n",
            "\n",
            "CONFIGURATION\n",
            "       By default, git tag in sign-with-default mode (-s) will use your\n",
            "       committer identity (of the form Your Name <your@email.address>) to find\n",
            "       a key. If you want to use a different default key, you can specify it\n",
            "       in the repository configuration as follows:\n",
            "\n",
            "           [user]\n",
            "               signingKey = <gpg-key_id>\n",
            "\n",
            "\n",
            "       pager.tag is only respected when listing tags, i.e., when -l is used or\n",
            "       implied. The default is to use a pager. See git-config(1).\n",
            "\n",
            "DISCUSSION\n",
            "   On Re-tagging\n",
            "       What should you do when you tag a wrong commit and you would want to\n",
            "       re-tag?\n",
            "\n",
            "       If you never pushed anything out, just re-tag it. Use \"-f\" to replace\n",
            "       the old one. And you’re done.\n",
            "\n",
            "       But if you have pushed things out (or others could just read your\n",
            "       repository directly), then others will have already seen the old tag.\n",
            "       In that case you can do one of two things:\n",
            "\n",
            "        1. The sane thing. Just admit you screwed up, and use a different\n",
            "           name. Others have already seen one tag-name, and if you keep the\n",
            "           same name, you may be in the situation that two people both have\n",
            "           \"version X\", but they actually have different \"X\"'s. So just call\n",
            "           it \"X.1\" and be done with it.\n",
            "\n",
            "        2. The insane thing. You really want to call the new version \"X\" too,\n",
            "           even though others have already seen the old one. So just use git\n",
            "           tag -f again, as if you hadn’t already published the old one.\n",
            "\n",
            "       However, Git does not (and it should not) change tags behind users\n",
            "       back. So if somebody already got the old tag, doing a git pull on your\n",
            "       tree shouldn’t just make them overwrite the old one.\n",
            "\n",
            "       If somebody got a release tag from you, you cannot just change the tag\n",
            "       for them by updating your own one. This is a big security issue, in\n",
            "       that people MUST be able to trust their tag-names. If you really want\n",
            "       to do the insane thing, you need to just fess up to it, and tell people\n",
            "       that you messed up. You can do that by making a very public\n",
            "       announcement saying:\n",
            "\n",
            "           Ok, I messed up, and I pushed out an earlier version tagged as X. I\n",
            "           then fixed something, and retagged the *fixed* tree as X again.\n",
            "\n",
            "           If you got the wrong tag, and want the new one, please delete\n",
            "           the old one and fetch the new one by doing:\n",
            "\n",
            "                   git tag -d X\n",
            "                   git fetch origin tag X\n",
            "\n",
            "           to get my updated tag.\n",
            "\n",
            "           You can test which tag you have by doing\n",
            "\n",
            "                   git rev-parse X\n",
            "\n",
            "           which should return 0123456789abcdef.. if you have the new version.\n",
            "\n",
            "           Sorry for the inconvenience.\n",
            "\n",
            "\n",
            "       Does this seem a bit complicated? It should be. There is no way that it\n",
            "       would be correct to just \"fix\" it automatically. People need to know\n",
            "       that their tags might have been changed.\n",
            "\n",
            "   On Automatic following\n",
            "       If you are following somebody else’s tree, you are most likely using\n",
            "       remote-tracking branches (eg. refs/remotes/origin/master). You usually\n",
            "       want the tags from the other end.\n",
            "\n",
            "       On the other hand, if you are fetching because you would want a\n",
            "       one-shot merge from somebody else, you typically do not want to get\n",
            "       tags from there. This happens more often for people near the toplevel\n",
            "       but not limited to them. Mere mortals when pulling from each other do\n",
            "       not necessarily want to automatically get private anchor point tags\n",
            "       from the other person.\n",
            "\n",
            "       Often, \"please pull\" messages on the mailing list just provide two\n",
            "       pieces of information: a repo URL and a branch name; this is designed\n",
            "       to be easily cut&pasted at the end of a git fetch command line:\n",
            "\n",
            "           Linus, please pull from\n",
            "\n",
            "                   git://git..../proj.git master\n",
            "\n",
            "           to get the following updates...\n",
            "\n",
            "\n",
            "       becomes:\n",
            "\n",
            "           $ git pull git://git..../proj.git master\n",
            "\n",
            "\n",
            "       In such a case, you do not want to automatically follow the other\n",
            "       person’s tags.\n",
            "\n",
            "       One important aspect of Git is its distributed nature, which largely\n",
            "       means there is no inherent \"upstream\" or \"downstream\" in the system. On\n",
            "       the face of it, the above example might seem to indicate that the tag\n",
            "       namespace is owned by the upper echelon of people and that tags only\n",
            "       flow downwards, but that is not the case. It only shows that the usage\n",
            "       pattern determines who are interested in whose tags.\n",
            "\n",
            "       A one-shot pull is a sign that a commit history is now crossing the\n",
            "       boundary between one circle of people (e.g. \"people who are primarily\n",
            "       interested in the networking part of the kernel\") who may have their\n",
            "       own set of tags (e.g. \"this is the third release candidate from the\n",
            "       networking group to be proposed for general consumption with 2.6.21\n",
            "       release\") to another circle of people (e.g. \"people who integrate\n",
            "       various subsystem improvements\"). The latter are usually not interested\n",
            "       in the detailed tags used internally in the former group (that is what\n",
            "       \"internal\" means). That is why it is desirable not to follow tags\n",
            "       automatically in this case.\n",
            "\n",
            "       It may well be that among networking people, they may want to exchange\n",
            "       the tags internal to their group, but in that workflow they are most\n",
            "       likely tracking each other’s progress by having remote-tracking\n",
            "       branches. Again, the heuristic to automatically follow such tags is a\n",
            "       good thing.\n",
            "\n",
            "   On Backdating Tags\n",
            "       If you have imported some changes from another VCS and would like to\n",
            "       add tags for major releases of your work, it is useful to be able to\n",
            "       specify the date to embed inside of the tag object; such data in the\n",
            "       tag object affects, for example, the ordering of tags in the gitweb\n",
            "       interface.\n",
            "\n",
            "       To set the date used in future tag objects, set the environment\n",
            "       variable GIT_COMMITTER_DATE (see the later discussion of possible\n",
            "       values; the most common form is \"YYYY-MM-DD HH:MM\").\n",
            "\n",
            "       For example:\n",
            "\n",
            "           $ GIT_COMMITTER_DATE=\"2006-10-02 10:31\" git tag -s v1.0.1\n",
            "\n",
            "\n",
            "DATE FORMATS\n",
            "       The GIT_AUTHOR_DATE and GIT_COMMITTER_DATE environment variables\n",
            "       support the following date formats:\n",
            "\n",
            "       Git internal format\n",
            "           It is <unix-timestamp> <time-zone-offset>, where <unix-timestamp>\n",
            "           is the number of seconds since the UNIX epoch.  <time-zone-offset>\n",
            "           is a positive or negative offset from UTC. For example CET (which\n",
            "           is 1 hour ahead of UTC) is +0100.\n",
            "\n",
            "       RFC 2822\n",
            "           The standard email format as described by RFC 2822, for example\n",
            "           Thu, 07 Apr 2005 22:13:13 +0200.\n",
            "\n",
            "       ISO 8601\n",
            "           Time and date specified by the ISO 8601 standard, for example\n",
            "           2005-04-07T22:13:13. The parser accepts a space instead of the T\n",
            "           character as well. Fractional parts of a second will be ignored,\n",
            "           for example 2005-04-07T22:13:13.019 will be treated as\n",
            "           2005-04-07T22:13:13.\n",
            "\n",
            "               Note\n",
            "               In addition, the date part is accepted in the following\n",
            "               formats: YYYY.MM.DD, MM/DD/YYYY and DD.MM.YYYY.\n",
            "\n",
            "NOTES\n",
            "       When combining multiple --contains and --no-contains filters, only\n",
            "       references that contain at least one of the --contains commits and\n",
            "       contain none of the --no-contains commits are shown.\n",
            "\n",
            "       When combining multiple --merged and --no-merged filters, only\n",
            "       references that are reachable from at least one of the --merged commits\n",
            "       and from none of the --no-merged commits are shown.\n",
            "\n",
            "SEE ALSO\n",
            "       git-check-ref-format(1). git-config(1).\n",
            "\n",
            "GIT\n",
            "       Part of the git(1) suite\n",
            "\n",
            "Git 2.39.0                        12/12/2022                        GIT-TAG(1)\n"
          ]
        }
      ],
      "source": [
        "!git help tag"
      ]
    },
    {
      "cell_type": "code",
      "execution_count": null,
      "id": "ace701f0-55e7-4904-822e-63b85d1ae495",
      "metadata": {
        "id": "ace701f0-55e7-4904-822e-63b85d1ae495"
      },
      "outputs": [],
      "source": [
        "!git tag v0 f20750697ba39c4056a6c8c1d77752599c15b015"
      ]
    },
    {
      "cell_type": "code",
      "execution_count": null,
      "id": "9bc5a33f-a770-439c-b023-f76923ca2856",
      "metadata": {
        "id": "9bc5a33f-a770-439c-b023-f76923ca2856",
        "outputId": "c169d0a4-44e1-4d43-8acd-0acfd9b73727"
      },
      "outputs": [
        {
          "name": "stdout",
          "output_type": "stream",
          "text": [
            "Note: switching to 'v0'.\n",
            "\n",
            "You are in 'detached HEAD' state. You can look around, make experimental\n",
            "changes and commit them, and you can discard any commits you make in this\n",
            "state without impacting any branches by switching back to a branch.\n",
            "\n",
            "If you want to create a new branch to retain commits you create, you may\n",
            "do so (now or later) by using -c with the switch command. Example:\n",
            "\n",
            "  git switch -c <new-branch-name>\n",
            "\n",
            "Or undo this operation with:\n",
            "\n",
            "  git switch -\n",
            "\n",
            "Turn off this advice by setting config variable advice.detachedHead to false\n",
            "\n",
            "HEAD is now at f207506 updated index.html with a newline\n"
          ]
        }
      ],
      "source": [
        "!git checkout v0"
      ]
    },
    {
      "cell_type": "code",
      "execution_count": null,
      "id": "fbe1d1fb-3d05-4372-8e6b-3c3a3263673e",
      "metadata": {
        "id": "fbe1d1fb-3d05-4372-8e6b-3c3a3263673e",
        "outputId": "3331d1c8-2537-40ea-ae57-00ab38d0a0ee"
      },
      "outputs": [
        {
          "name": "stdout",
          "output_type": "stream",
          "text": [
            "\u001b[33mcommit f20750697ba39c4056a6c8c1d77752599c15b015\u001b[m\u001b[33m (\u001b[m\u001b[1;36mHEAD\u001b[m\u001b[33m, \u001b[m\u001b[1;33mtag: v0\u001b[m\u001b[33m, \u001b[m\u001b[1;32mmain\u001b[m\u001b[33m)\u001b[m\n",
            "Author: Madhav <madhavk@cse.iitb.ac.in>\n",
            "Date:   Sun Mar 30 23:49:12 2025 +0530\n",
            "\n",
            "    updated index.html with a newline\n",
            "\n",
            "\u001b[33mcommit 2ad21827452cea3e2b6db92694288924d0715992\u001b[m\n",
            "Author: Madhav <madhavk@cse.iitb.ac.in>\n",
            "Date:   Sun Mar 30 23:43:08 2025 +0530\n",
            "\n",
            "    1st release\n",
            "\u001b[31mHEAD detached at \u001b[mv0\n",
            "nothing to commit, working tree clean\n"
          ]
        }
      ],
      "source": [
        "!git log; git status"
      ]
    },
    {
      "cell_type": "code",
      "execution_count": null,
      "id": "883e5654-aa9f-4474-90ca-134edd3bb041",
      "metadata": {
        "id": "883e5654-aa9f-4474-90ca-134edd3bb041",
        "outputId": "327457d9-9d2e-4fbe-a1b7-4a2d713f059f"
      },
      "outputs": [
        {
          "name": "stdout",
          "output_type": "stream",
          "text": [
            "Previous HEAD position was f207506 updated index.html with a newline\n",
            "HEAD is now at 2ad2182 1st release\n"
          ]
        }
      ],
      "source": [
        "!git checkout 2ad21827452cea3e2b6db92694288924d0715992"
      ]
    },
    {
      "cell_type": "code",
      "execution_count": null,
      "id": "0a90566e-fe88-44f6-8900-be8ccaf116ce",
      "metadata": {
        "id": "0a90566e-fe88-44f6-8900-be8ccaf116ce",
        "outputId": "ecf5fb78-0e2f-4768-9c21-61cdc2a9ade3"
      },
      "outputs": [
        {
          "name": "stdout",
          "output_type": "stream",
          "text": [
            "\u001b[33mcommit 2ad21827452cea3e2b6db92694288924d0715992\u001b[m\u001b[33m (\u001b[m\u001b[1;36mHEAD\u001b[m\u001b[33m)\u001b[m\n",
            "Author: Madhav <madhavk@cse.iitb.ac.in>\n",
            "Date:   Sun Mar 30 23:43:08 2025 +0530\n",
            "\n",
            "    1st release\n"
          ]
        }
      ],
      "source": [
        "!git log"
      ]
    },
    {
      "cell_type": "markdown",
      "id": "14586ede",
      "metadata": {
        "id": "14586ede"
      },
      "source": [
        "**If it's all getting confusing, remember we are doing few simple operations:**"
      ]
    },
    {
      "cell_type": "code",
      "execution_count": null,
      "id": "5ae98bfe-917b-41f4-8669-c9715c2a0239",
      "metadata": {
        "id": "5ae98bfe-917b-41f4-8669-c9715c2a0239"
      },
      "outputs": [],
      "source": [
        "git status\n",
        "git add --all\n",
        "git commit\n",
        "git log\n",
        "git show\n",
        "git checkout"
      ]
    },
    {
      "cell_type": "markdown",
      "id": "df026bc4",
      "metadata": {
        "id": "df026bc4"
      },
      "source": [
        "**Power of git comes from branching and merging. Before starting on it, let's know the status of our current environment**"
      ]
    },
    {
      "cell_type": "code",
      "execution_count": null,
      "id": "92c0ec71-2e4d-4886-a05e-567a80a25f8f",
      "metadata": {
        "id": "92c0ec71-2e4d-4886-a05e-567a80a25f8f",
        "outputId": "85901f1c-16b6-4b21-9e6b-734f47109f22"
      },
      "outputs": [
        {
          "name": "stdout",
          "output_type": "stream",
          "text": [
            "\u001b[33mcommit 2ad21827452cea3e2b6db92694288924d0715992\u001b[m\u001b[33m (\u001b[m\u001b[1;36mHEAD\u001b[m\u001b[33m)\u001b[m\n",
            "Author: Madhav <madhavk@cse.iitb.ac.in>\n",
            "Date:   Sun Mar 30 23:43:08 2025 +0530\n",
            "\n",
            "    1st release\n"
          ]
        }
      ],
      "source": [
        "!git log"
      ]
    },
    {
      "cell_type": "code",
      "execution_count": null,
      "id": "5aa7b367-1a06-41c1-a8ed-b8d5bd7070e9",
      "metadata": {
        "id": "5aa7b367-1a06-41c1-a8ed-b8d5bd7070e9"
      },
      "outputs": [],
      "source": [
        "#let's create a branch\n",
        "!git branch images"
      ]
    },
    {
      "cell_type": "code",
      "execution_count": null,
      "id": "25631647-0331-49c4-bc5a-ce8586614f34",
      "metadata": {
        "id": "25631647-0331-49c4-bc5a-ce8586614f34",
        "outputId": "4b16e3ba-1f25-40ad-e4af-9dee99365e7e"
      },
      "outputs": [
        {
          "name": "stdout",
          "output_type": "stream",
          "text": [
            "* \u001b[32m(HEAD detached at 2ad2182)\u001b[m\n",
            "  images\u001b[m\n",
            "  main\u001b[m\n"
          ]
        }
      ],
      "source": [
        "#was branch creation successful?\n",
        "!git branch"
      ]
    },
    {
      "cell_type": "code",
      "execution_count": null,
      "id": "3b4dd7c6-5956-4eb6-b3f0-112a6cdc61cc",
      "metadata": {
        "id": "3b4dd7c6-5956-4eb6-b3f0-112a6cdc61cc",
        "outputId": "4a40bf03-88e0-4893-9bbd-adceaff49b1c"
      },
      "outputs": [
        {
          "name": "stdout",
          "output_type": "stream",
          "text": [
            "* \u001b[32m(HEAD detached at 2ad2182)\u001b[m\n",
            "  images\u001b[m\n",
            "  main\u001b[m\n"
          ]
        }
      ],
      "source": [
        "!git branch"
      ]
    },
    {
      "cell_type": "code",
      "execution_count": null,
      "id": "51ed1362-41a0-4a4d-8824-15a2492602c0",
      "metadata": {
        "id": "51ed1362-41a0-4a4d-8824-15a2492602c0",
        "outputId": "57b7189e-7536-4d2a-8a53-234d552b5a80"
      },
      "outputs": [
        {
          "name": "stdout",
          "output_type": "stream",
          "text": [
            "README.md     bluestyle.css index.html\n"
          ]
        }
      ],
      "source": [
        "!ls"
      ]
    },
    {
      "cell_type": "code",
      "execution_count": null,
      "id": "3820eb8e-a7a5-4dd5-8e29-ccd46d4f0813",
      "metadata": {
        "id": "3820eb8e-a7a5-4dd5-8e29-ccd46d4f0813",
        "outputId": "5dde831b-e25f-47a0-a1e9-9865b60689bc"
      },
      "outputs": [
        {
          "name": "stdout",
          "output_type": "stream",
          "text": [
            "Switched to branch 'images'\n"
          ]
        }
      ],
      "source": [
        "!git checkout images"
      ]
    },
    {
      "cell_type": "code",
      "execution_count": null,
      "id": "2e03211c-2734-46ba-8efa-a7506b150821",
      "metadata": {
        "id": "2e03211c-2734-46ba-8efa-a7506b150821",
        "outputId": "49158adc-ab73-4986-ae4f-8d95e80cf827"
      },
      "outputs": [
        {
          "name": "stdout",
          "output_type": "stream",
          "text": [
            "README.md     bluestyle.css index.html\n"
          ]
        }
      ],
      "source": [
        "!ls"
      ]
    },
    {
      "cell_type": "code",
      "execution_count": null,
      "id": "b6ad7ecf-7c7f-4a98-b3b4-af08446eec11",
      "metadata": {
        "id": "b6ad7ecf-7c7f-4a98-b3b4-af08446eec11",
        "outputId": "0a8eecf4-019f-45aa-cd31-d5297821b119"
      },
      "outputs": [
        {
          "name": "stdout",
          "output_type": "stream",
          "text": [
            "  % Total    % Received % Xferd  Average Speed   Time    Time     Time  Current\n",
            "                                 Dload  Upload   Total   Spent    Left  Speed\n",
            "100  109k  100  109k    0     0   941k      0 --:--:-- --:--:-- --:--:--  944k\n"
          ]
        }
      ],
      "source": [
        "!curl -O https://www.cse.iitb.ac.in/~damani/images/OmNov18.jpg"
      ]
    },
    {
      "cell_type": "code",
      "execution_count": null,
      "id": "9b71de71-d8e7-4d05-9256-63426327a445",
      "metadata": {
        "id": "9b71de71-d8e7-4d05-9256-63426327a445",
        "outputId": "dc36aed0-d548-4837-b06d-ab214769d1b5"
      },
      "outputs": [
        {
          "name": "stdout",
          "output_type": "stream",
          "text": [
            "On branch images\n",
            "Untracked files:\n",
            "  (use \"git add <file>...\" to include in what will be committed)\n",
            "\t\u001b[31mOmNov18.jpg\u001b[m\n",
            "\n",
            "nothing added to commit but untracked files present (use \"git add\" to track)\n"
          ]
        }
      ],
      "source": [
        "!git status"
      ]
    },
    {
      "cell_type": "code",
      "execution_count": null,
      "id": "b07ca216-4b63-4444-a6ae-5a9fdb6ace4b",
      "metadata": {
        "id": "b07ca216-4b63-4444-a6ae-5a9fdb6ace4b"
      },
      "outputs": [],
      "source": [
        "!git add OmNov18.jpg"
      ]
    },
    {
      "cell_type": "code",
      "execution_count": null,
      "id": "b1fc6f5f-2a0f-45bb-913e-3d8edf65b7b6",
      "metadata": {
        "id": "b1fc6f5f-2a0f-45bb-913e-3d8edf65b7b6",
        "outputId": "df7fff04-f3e0-4026-aa3d-5fc1b9eb12fa"
      },
      "outputs": [
        {
          "name": "stdout",
          "output_type": "stream",
          "text": [
            "[images dd89aee] added image\n",
            " 1 file changed, 0 insertions(+), 0 deletions(-)\n",
            " create mode 100644 OmNov18.jpg\n"
          ]
        }
      ],
      "source": [
        "!git commit -m \"added image\""
      ]
    },
    {
      "cell_type": "code",
      "execution_count": null,
      "id": "c721d481-3e32-4a1a-96ba-c3a53e4cc651",
      "metadata": {
        "id": "c721d481-3e32-4a1a-96ba-c3a53e4cc651"
      },
      "outputs": [],
      "source": [
        "#edit index.html\n",
        "!echo \"editing inddex on 'images' branch\" >> index.html"
      ]
    },
    {
      "cell_type": "code",
      "execution_count": null,
      "id": "08e304ce-fcd5-4ec6-b281-506039de417c",
      "metadata": {
        "id": "08e304ce-fcd5-4ec6-b281-506039de417c"
      },
      "outputs": [],
      "source": [
        "!git add index.html; echo \"xgs\" >> index.html"
      ]
    },
    {
      "cell_type": "code",
      "execution_count": null,
      "id": "d86fa68c-4be9-4add-b321-e4602066d50a",
      "metadata": {
        "id": "d86fa68c-4be9-4add-b321-e4602066d50a",
        "outputId": "7dd57c03-d985-41a8-c5e4-550fd9e29e48"
      },
      "outputs": [
        {
          "name": "stdout",
          "output_type": "stream",
          "text": [
            "[images 49de5b6] another merge check line added to index\n",
            " 1 file changed, 1 insertion(+)\n"
          ]
        }
      ],
      "source": [
        "!git commit -m \"another merge check line added to index\""
      ]
    },
    {
      "cell_type": "code",
      "execution_count": null,
      "id": "245325ff-83d4-4304-b05a-0f1067d51894",
      "metadata": {
        "id": "245325ff-83d4-4304-b05a-0f1067d51894",
        "outputId": "991ab5a4-0b1b-45e1-d4f8-55bd8e409d70"
      },
      "outputs": [
        {
          "name": "stdout",
          "output_type": "stream",
          "text": [
            "error: Your local changes to the following files would be overwritten by checkout:\n",
            "\tindex.html\n",
            "Please commit your changes or stash them before you switch branches.\n",
            "Aborting\n"
          ]
        }
      ],
      "source": [
        "!git checkout main"
      ]
    },
    {
      "cell_type": "code",
      "execution_count": null,
      "id": "9422d9ec-0ae4-4537-94e8-2ea2aa2cd818",
      "metadata": {
        "id": "9422d9ec-0ae4-4537-94e8-2ea2aa2cd818",
        "outputId": "0887f409-28d7-4dc3-9668-eb2c9dc49b3a"
      },
      "outputs": [
        {
          "name": "stdout",
          "output_type": "stream",
          "text": [
            "editing inddex on 'images' branch\n",
            "xgs\n"
          ]
        }
      ],
      "source": [
        "!cat index.html"
      ]
    },
    {
      "cell_type": "code",
      "execution_count": null,
      "id": "c025fc83-0c8b-4952-89d2-14057bde4ec8",
      "metadata": {
        "id": "c025fc83-0c8b-4952-89d2-14057bde4ec8"
      },
      "outputs": [],
      "source": [
        "!echo \"def\" >> index.html"
      ]
    },
    {
      "cell_type": "code",
      "execution_count": null,
      "id": "522b9bcd-6b3e-4c62-af69-9511c1771e3b",
      "metadata": {
        "id": "522b9bcd-6b3e-4c62-af69-9511c1771e3b"
      },
      "outputs": [],
      "source": [
        "!git add index.html"
      ]
    },
    {
      "cell_type": "code",
      "execution_count": null,
      "id": "4dbbb723-a2fe-44f9-b284-7ca08dd406a7",
      "metadata": {
        "id": "4dbbb723-a2fe-44f9-b284-7ca08dd406a7",
        "outputId": "ed758c9a-ece1-4a5d-94fa-28ffff0ca01a"
      },
      "outputs": [
        {
          "name": "stdout",
          "output_type": "stream",
          "text": [
            "[images b484fe3] introducing merge conflict on main branch\n",
            " 1 file changed, 2 insertions(+)\n"
          ]
        }
      ],
      "source": [
        "!git commit index.html -m \"introducing merge conflict on main branch\""
      ]
    },
    {
      "cell_type": "code",
      "execution_count": null,
      "id": "bb23be14-70e5-4e39-82fc-d6283c4224a9",
      "metadata": {
        "id": "bb23be14-70e5-4e39-82fc-d6283c4224a9",
        "outputId": "975996c7-767c-47f9-ded3-d1477f3eeb2e"
      },
      "outputs": [
        {
          "name": "stdout",
          "output_type": "stream",
          "text": [
            "Already up to date.\n"
          ]
        }
      ],
      "source": [
        "#now try merging the images branch\n",
        "!git merge images"
      ]
    },
    {
      "cell_type": "markdown",
      "id": "02f12c52",
      "metadata": {
        "id": "02f12c52"
      },
      "source": [
        "**Credits: Prof Om Damani (CSE Dept., IIT Bombay)**"
      ]
    }
  ],
  "metadata": {
    "kernelspec": {
      "display_name": "Python 3",
      "language": "python",
      "name": "python3"
    },
    "language_info": {
      "codemirror_mode": {
        "name": "ipython",
        "version": 3
      },
      "file_extension": ".py",
      "mimetype": "text/x-python",
      "name": "python",
      "nbconvert_exporter": "python",
      "pygments_lexer": "ipython3",
      "version": "3.13.1"
    },
    "colab": {
      "provenance": [],
      "include_colab_link": true
    }
  },
  "nbformat": 4,
  "nbformat_minor": 5
}